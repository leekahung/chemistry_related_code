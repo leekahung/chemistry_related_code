{
 "cells": [
  {
   "cell_type": "code",
   "execution_count": 1,
   "id": "b05d54e6",
   "metadata": {
    "ExecuteTime": {
     "end_time": "2022-04-13T11:11:10.856384Z",
     "start_time": "2022-04-13T11:11:09.129772Z"
    }
   },
   "outputs": [],
   "source": [
    "import pandas as pd\n",
    "import re"
   ]
  },
  {
   "cell_type": "code",
   "execution_count": 2,
   "id": "908fb874",
   "metadata": {
    "ExecuteTime": {
     "end_time": "2022-04-13T11:11:10.880479Z",
     "start_time": "2022-04-13T11:11:10.858509Z"
    }
   },
   "outputs": [],
   "source": [
    "periodic_df = pd.read_csv('iupac_2019_atomic_weights.csv', header=None)\n",
    "column_names = ['atomic_number', 'element_symbol', 'element_name', 'atomic_mass']\n",
    "periodic_df.columns = column_names\n",
    "periodic_df.set_index('element_symbol', inplace=True)"
   ]
  },
  {
   "cell_type": "code",
   "execution_count": 3,
   "id": "e1fcb74a",
   "metadata": {
    "ExecuteTime": {
     "end_time": "2022-04-13T11:11:10.898508Z",
     "start_time": "2022-04-13T11:11:10.883092Z"
    }
   },
   "outputs": [
    {
     "data": {
      "text/plain": [
       "15.999"
      ]
     },
     "execution_count": 3,
     "metadata": {},
     "output_type": "execute_result"
    }
   ],
   "source": [
    "periodic_df.loc[\"O\", \"atomic_mass\"]"
   ]
  },
  {
   "cell_type": "code",
   "execution_count": 19,
   "id": "119baff6",
   "metadata": {
    "ExecuteTime": {
     "end_time": "2022-04-13T11:17:20.646281Z",
     "start_time": "2022-04-13T11:17:20.641991Z"
    }
   },
   "outputs": [],
   "source": [
    "molecule = \"HC12H17ON4SCl2\""
   ]
  },
  {
   "cell_type": "code",
   "execution_count": 20,
   "id": "63c9d3fa",
   "metadata": {
    "ExecuteTime": {
     "end_time": "2022-04-13T11:17:23.584386Z",
     "start_time": "2022-04-13T11:17:23.577946Z"
    }
   },
   "outputs": [
    {
     "data": {
      "text/plain": [
       "0"
      ]
     },
     "execution_count": 20,
     "metadata": {},
     "output_type": "execute_result"
    }
   ],
   "source": [
    "groups_list = re.findall(r\"\\(\\w+\\)\\d?\", molecule)\n",
    "len(groups_list)"
   ]
  },
  {
   "cell_type": "code",
   "execution_count": 21,
   "id": "bda32e11",
   "metadata": {
    "ExecuteTime": {
     "end_time": "2022-04-13T11:17:24.068363Z",
     "start_time": "2022-04-13T11:17:24.061848Z"
    }
   },
   "outputs": [],
   "source": [
    "molecule_groups = []\n",
    "for group in groups_list:\n",
    "    molecule_group = re.findall(r\"\\w+\", group)\n",
    "    if len(molecule_group) == 1:\n",
    "        molecule_group.append('1')\n",
    "        molecule_groups.append(molecule_group)\n",
    "        print(molecule_group)\n",
    "    else:\n",
    "        molecule_groups.append(molecule_group)\n",
    "        print(molecule_group)"
   ]
  },
  {
   "cell_type": "code",
   "execution_count": 22,
   "id": "4a2efe4a",
   "metadata": {
    "ExecuteTime": {
     "end_time": "2022-04-13T11:17:24.660707Z",
     "start_time": "2022-04-13T11:17:24.655458Z"
    }
   },
   "outputs": [
    {
     "name": "stdout",
     "output_type": "stream",
     "text": [
      "HC12H17ON4SCl2\n"
     ]
    }
   ],
   "source": [
    "molecule = re.sub(r\"\\(\\w+\\)\\d?\", \"\", molecule)\n",
    "print(molecule)"
   ]
  },
  {
   "cell_type": "code",
   "execution_count": 31,
   "id": "56a57376",
   "metadata": {
    "ExecuteTime": {
     "end_time": "2022-04-13T11:19:11.025797Z",
     "start_time": "2022-04-13T11:19:11.019915Z"
    }
   },
   "outputs": [
    {
     "name": "stdout",
     "output_type": "stream",
     "text": [
      "['H1', 'C12', 'H17', 'O1', 'N4', 'S1', 'Cl2']\n"
     ]
    }
   ],
   "source": [
    "elements_list = re.findall(r\"[A-Z][a-z]?\\d*\", molecule)\n",
    "for i, component in enumerate(elements_list):\n",
    "    if component.isalpha() == True:\n",
    "        elements_list[i] = component + '1'\n",
    "        \n",
    "print(elements_list)"
   ]
  },
  {
   "cell_type": "code",
   "execution_count": 16,
   "id": "0b6f8e67",
   "metadata": {
    "ExecuteTime": {
     "end_time": "2022-04-13T09:02:42.703635Z",
     "start_time": "2022-04-13T09:02:42.683347Z"
    }
   },
   "outputs": [
    {
     "name": "stdout",
     "output_type": "stream",
     "text": [
      "['N1', 'H3']\n",
      "0\n"
     ]
    }
   ],
   "source": [
    "elements_list = []\n",
    "water_of_hydration = 0\n",
    "for i, letter in enumerate(molecule):\n",
    "    if molecule[i].isupper() == True:\n",
    "        try:\n",
    "            if molecule[i+1].isnumeric() == True:\n",
    "                elements_list.append(molecule[i] + molecule[i+1])\n",
    "            elif molecule[i+1].isupper() == True:\n",
    "                elements_list.append(molecule[i] + \"1\")\n",
    "            else:\n",
    "                elements_list.append(molecule[i] + molecule[i+1])\n",
    "        except IndexError:\n",
    "            elements_list.append(molecule[i] + '1')\n",
    "    elif molecule[i].islower() == True:\n",
    "        try:\n",
    "            if molecule[i+1].isupper() == True:\n",
    "                temp = elements_list[-1] + '1'\n",
    "                elements_list[-1] = temp\n",
    "            else:\n",
    "                continue\n",
    "        except IndexError:\n",
    "            temp = elements_list[-1] + '1'\n",
    "            elements_list[-1] = temp\n",
    "    elif molecule[i] == '.':\n",
    "        if molecule[i-1].isalpha() == True:\n",
    "            elements_list[-1] = elements_list[-1][:-1] + '1'\n",
    "        else:\n",
    "            elements_list[-1] = elements_list[-1][:-1]\n",
    "        if molecule[i+1].isnumeric() == True:\n",
    "            water_of_hydration = float(molecule[i+1])\n",
    "            break\n",
    "        else:\n",
    "            water_of_hydration = 1.0\n",
    "            break        \n",
    "    else:\n",
    "        if i == len(molecule) - 1 and molecule[i-1].islower() == True:\n",
    "            temp = elements_list[-1] + molecule[i]\n",
    "            elements_list[-1] = temp\n",
    "            break\n",
    "        try:\n",
    "            if elements_list[-1][-1].isnumeric() == True:\n",
    "                temp = elements_list[-1] + molecule[i+1]\n",
    "                if temp[-1].isalpha() == True:\n",
    "                    elements_list[-1] = temp[:-1]\n",
    "                else:\n",
    "                    elements_list[-1] = temp\n",
    "            elif elements_list[-1][-1].islower() == True:\n",
    "                if molecule[i+1].isnumeric() == True:\n",
    "                    temp = elements_list[-1] + molecule[i] + molecule[i+1]\n",
    "                    elements_list[-1] = temp\n",
    "                else:\n",
    "                    temp = elements_list[-1] + molecule[i]\n",
    "                    elements_list[-1] = temp\n",
    "        except IndexError:\n",
    "            temp = elements_list[-1] + molecule[i]\n",
    "            elements_list[-1] = temp[:-1]\n",
    "            \n",
    "print(elements_list)\n",
    "print(water_of_hydration)"
   ]
  },
  {
   "cell_type": "code",
   "execution_count": 33,
   "id": "09cf3b2b",
   "metadata": {
    "ExecuteTime": {
     "end_time": "2022-04-13T11:20:04.657927Z",
     "start_time": "2022-04-13T11:20:04.651383Z"
    }
   },
   "outputs": [
    {
     "name": "stdout",
     "output_type": "stream",
     "text": [
      "[1.008, 144.132, 17.136, 15.999, 56.028, 32.06, 70.9]\n"
     ]
    }
   ],
   "source": [
    "mass_list = []\n",
    "for element in elements_list:\n",
    "    ele = re.findall(r\"[a-zA-Z]+\", element)[0]\n",
    "    ele_count = re.findall(r\"\\d+\", element)[0]\n",
    "    mass_list.append(periodic_df.loc[ele, \"atomic_mass\"] * float(ele_count))\n",
    "print(mass_list)"
   ]
  },
  {
   "cell_type": "code",
   "execution_count": null,
   "id": "9074df07",
   "metadata": {},
   "outputs": [],
   "source": [
    "water_mass = periodic_df.loc[\"H\", \"atomic_mass\"] * 2.0 + periodic_df.loc[\"O\", \"atomic_mass\"]\n",
    "total_mass_hydration = float(water_of_hydration) * water_mass\n",
    "print(total_mass_hydration)"
   ]
  },
  {
   "cell_type": "code",
   "execution_count": 34,
   "id": "3f56ba3e",
   "metadata": {
    "ExecuteTime": {
     "end_time": "2022-04-13T11:20:11.715536Z",
     "start_time": "2022-04-13T11:20:11.710564Z"
    }
   },
   "outputs": [
    {
     "name": "stdout",
     "output_type": "stream",
     "text": [
      "337.26300000000003\n"
     ]
    }
   ],
   "source": [
    "total_mass = sum(mass_list)\n",
    "print(total_mass)"
   ]
  },
  {
   "cell_type": "code",
   "execution_count": null,
   "id": "2f5dcc50",
   "metadata": {},
   "outputs": [],
   "source": []
  }
 ],
 "metadata": {
  "kernelspec": {
   "display_name": "Python 3 (ipykernel)",
   "language": "python",
   "name": "python3"
  },
  "language_info": {
   "codemirror_mode": {
    "name": "ipython",
    "version": 3
   },
   "file_extension": ".py",
   "mimetype": "text/x-python",
   "name": "python",
   "nbconvert_exporter": "python",
   "pygments_lexer": "ipython3",
   "version": "3.7.7"
  }
 },
 "nbformat": 4,
 "nbformat_minor": 5
}
